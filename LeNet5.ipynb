{
 "cells": [
  {
   "cell_type": "code",
   "execution_count": 23,
   "metadata": {},
   "outputs": [],
   "source": [
    "import torch\n",
    "import torch.nn as nn\n",
    "import torch.optim as optim\n",
    "import torchvision\n",
    "import torchvision.transforms as transforms\n",
    "import matplotlib.pyplot as plt\n"
   ]
  },
  {
   "cell_type": "code",
   "execution_count": null,
   "metadata": {},
   "outputs": [],
   "source": []
  },
  {
   "cell_type": "markdown",
   "metadata": {},
   "source": [
    "# Step 1: Loading traditional Digit MNIST dataset"
   ]
  },
  {
   "cell_type": "code",
   "execution_count": 24,
   "metadata": {},
   "outputs": [],
   "source": [
    "# I got error on downloading this dataset so I only use it online without downloading\n",
    "\n",
    "#transform data into Tensor and normalize with mean = 0.5, standard deviation = 0.5 -> do lech chuan\n",
    "transform = transforms.Compose([\n",
    "    transforms.ToTensor(),\n",
    "    transforms.Normalize((0.1307,), (0.3081,))\n",
    "])\n",
    "\n",
    "training_data = torchvision.datasets.MNIST(\n",
    "    root=\"data\",\n",
    "    train=True,\n",
    "    download=True,\n",
    "    transform= transform\n",
    ")\n",
    "\n",
    "\n",
    "training_data , valid_data = torch.utils.data.random_split(training_data , [0.8,  0.2], )\n",
    "\n",
    "test_data = torchvision.datasets.MNIST(\n",
    "    root=\"data\",\n",
    "    train=True,\n",
    "    download=True,\n",
    "    transform= transform\n",
    ")\n",
    "\n",
    "#after transform image become tensor and can only displayed using plt.imshow with img.squeeze()"
   ]
  },
  {
   "cell_type": "code",
   "execution_count": 25,
   "metadata": {},
   "outputs": [],
   "source": [
    "labels_map = {\n",
    "    0: \"0\",\n",
    "    1: \"1\",\n",
    "    2: \"2\",\n",
    "    3: \"3\",\n",
    "    4: \"4\",\n",
    "    5: \"5\",\n",
    "    6: \"6\",\n",
    "    7: \"7\",\n",
    "    8: \"8\",\n",
    "    9: \"9\",\n",
    "}\n"
   ]
  },
  {
   "cell_type": "code",
   "execution_count": 26,
   "metadata": {},
   "outputs": [
    {
     "data": {
      "image/png": "[encoded data removed]",
      "text/plain": [
       "<Figure size 800x800 with 9 Axes>"
      ]
     },
     "metadata": {},
     "output_type": "display_data"
    }
   ],
   "source": [
    "# using plt to show the numbers and labels randomly \n",
    "\n",
    "figure = plt.figure(figsize=(8, 8))\n",
    "cols, rows = 3, 3\n",
    "for i in range(1, cols * rows + 1):\n",
    "    sample_idx = torch.randint(len(training_data), size=(1,)).item()\n",
    "    img , label= training_data[sample_idx]\n",
    "    figure.add_subplot(rows, cols, i)\n",
    "    plt.title(labels_map[label])\n",
    "    plt.axis(\"off\")\n",
    "    plt.imshow(img.squeeze(), cmap=\"gray\") #in order to use plt.imshow , must use img.squeeze()\n",
    "plt.show()"
   ]
  },
  {
   "cell_type": "code",
   "execution_count": 27,
   "metadata": {},
   "outputs": [
    {
     "data": {
      "text/plain": [
       "<torch._C.Generator at 0x7f9bac3acaf0>"
      ]
     },
     "execution_count": 27,
     "metadata": {},
     "output_type": "execute_result"
    }
   ],
   "source": [
    "from torch.utils.data import DataLoader\n",
    "\n",
    "\n",
    "epoch_num = 10\n",
    "batch_size_train = 64\n",
    "batch_size_test = 1000\n",
    "l_r = 0.01\n",
    "momentum = 0.9\n",
    "#log_interval = 100  #how often the training result being printed (1 time for every 100 batches)\n",
    "\n",
    "random_seed = 10\n",
    "torch.manual_seed(random_seed)\n"
   ]
  },
  {
   "cell_type": "code",
   "execution_count": 28,
   "metadata": {},
   "outputs": [],
   "source": [
    "# for shuffling the dataset when we sample a minibatch in the training phase \n",
    "\n",
    "train_dataloader = torch.utils.data.DataLoader(training_data , batch_size = batch_size_train , shuffle= True)\n",
    "valid_dataloader = torch.utils.data.DataLoader(valid_data , batch_size= batch_size_test , shuffle= False)\n",
    "test_dataloader = torch.utils.data.DataLoader(test_data , batch_size= batch_size_test, shuffle = False)\n"
   ]
  },
  {
   "cell_type": "code",
   "execution_count": 29,
   "metadata": {},
   "outputs": [
    {
     "data": {
      "image/png": "[encoded data removed]",
      "text/plain": [
       "<Figure size 640x480 with 1 Axes>"
      ]
     },
     "metadata": {},
     "output_type": "display_data"
    }
   ],
   "source": [
    "# to see a batch when DataLoader sampling, using next(iter(...)) #a batch is 64 figures size 1x28x28 and it's labels\n",
    "train_features, train_labels = next(iter(train_dataloader))\n",
    "\n",
    "img =  train_features[0].squeeze() \n",
    "label = train_labels[0]\n",
    "\n",
    "plt.imshow(img , cmap = \"gray\")\n",
    "plt.title(label)\n",
    "plt.show()\n",
    "\n"
   ]
  },
  {
   "cell_type": "markdown",
   "metadata": {},
   "source": [
    "# Step 2: Building CNN Lenet5 model "
   ]
  },
  {
   "cell_type": "code",
   "execution_count": 30,
   "metadata": {},
   "outputs": [],
   "source": [
    "# lenet activation function \n",
    "# class LeNet(nn.Module):\n",
    "#     def __init__(self):\n",
    "#         super(LeNet, self).__init__()\n",
    "#         self.conv1 = nn.Conv2d(1, 6, kernel_size=5, padding=2)\n",
    "#         self.conv2 = nn.Conv2d(6, 16, kernel_size=5)\n",
    "#         self.fc1 = nn.Linear(16*5*5, 120)\n",
    "#         self.fc2 = nn.Linear(120, 84)\n",
    "#         self.fc3 = nn.Linear(84, 10)\n",
    "#         self._initialize_weights()\n",
    "    \n",
    "#     def _initialize_weights(self):\n",
    "#         for m in self.modules():\n",
    "#             if isinstance(m, nn.Conv2d):\n",
    "#                 nn.init.xavier_normal_(m.weight)\n",
    "#                 if m.bias is not None:\n",
    "#                     nn.init.zeros_(m.bias)\n",
    "#             elif isinstance(m, nn.Linear):\n",
    "#                 nn.init.xavier_normal_(m.weight)\n",
    "#                 if m.bias is not None:\n",
    "#                     nn.init.zeros_(m.bias)\n",
    "    \n",
    "#     def forward(self, x):\n",
    "#         x = torch.relu(self.conv1(x))\n",
    "#         x = torch.max_pool2d(x, kernel_size=2, stride=2)\n",
    "        # x = torch.relu(self.conv2(x))\n",
    "        # x = torch.max_pool2d(x, kernel_size=2, stride=2)\n",
    "        # x = x.view(-1, 16*5*5)\n",
    "        # x = torch.relu(self.fc1(x))\n",
    "        # x = torch.relu(self.fc2(x))\n",
    "        # x = self.fc3(x)\n",
    "        # return x\n",
    "    \n",
    "\n",
    "\n"
   ]
  },
  {
   "cell_type": "code",
   "execution_count": 31,
   "metadata": {},
   "outputs": [],
   "source": [
    "#sigmoid function\n",
    "\n",
    "class LeNet(nn.Module):\n",
    "    def __init__(self):\n",
    "        super(LeNet, self).__init__()\n",
    "        self.conv1 = nn.Conv2d(1, 6, kernel_size=5, padding=2)\n",
    "        self.conv2 = nn.Conv2d(6, 16, kernel_size=5)\n",
    "        self.fc1 = nn.Linear(16*5*5, 120)\n",
    "        self.fc2 = nn.Linear(120, 84)\n",
    "        self.fc3 = nn.Linear(84, 10)\n",
    "        self._initialize_weights()\n",
    "    \n",
    "    def _initialize_weights(self):\n",
    "        for m in self.modules():\n",
    "            if isinstance(m, nn.Conv2d):\n",
    "                nn.init.xavier_normal_(m.weight)\n",
    "                if m.bias is not None:\n",
    "                    nn.init.zeros_(m.bias)\n",
    "            elif isinstance(m, nn.Linear):\n",
    "                nn.init.xavier_normal_(m.weight)\n",
    "                if m.bias is not None:\n",
    "                    nn.init.zeros_(m.bias)\n",
    "    \n",
    "    def forward(self, x):\n",
    "        x = torch.sigmoid(self.conv1(x))\n",
    "        x = torch.max_pool2d(x, kernel_size=2, stride=2)\n",
    "        x = torch.sigmoid(self.conv2(x))\n",
    "        x = torch.max_pool2d(x, kernel_size=2, stride=2)\n",
    "        x = x.view(-1, 16*5*5)\n",
    "        x = torch.sigmoid(self.fc1(x))\n",
    "        x = torch.sigmoid(self.fc2(x))\n",
    "        x = self.fc3(x)\n",
    "        return x"
   ]
  },
  {
   "cell_type": "code",
   "execution_count": 32,
   "metadata": {},
   "outputs": [],
   "source": [
    "import torch.optim as optim \n",
    "\n",
    "device = torch.device(\"cuda\" if torch.cuda.is_available() else \"cpu\")\n",
    "model = LeNet().to(device)\n",
    "criterion = nn.CrossEntropyLoss()\n",
    "optimizer = optim.SGD(model.parameters(), lr=0.01, momentum=0.9)\n",
    "scheduler = torch.optim.lr_scheduler.StepLR(optimizer, step_size = 7 , gamma = 0.1)\n"
   ]
  },
  {
   "cell_type": "markdown",
   "metadata": {},
   "source": [
    "# Step 3: Train the network "
   ]
  },
  {
   "cell_type": "code",
   "execution_count": 33,
   "metadata": {},
   "outputs": [
    {
     "name": "stdout",
     "output_type": "stream",
     "text": [
      "Epoch [1/25], training loss: 2.31 , valid correct percent : 8.33\n",
      "Epoch [2/25], training loss: 2.04 , valid correct percent : 60.98\n",
      "Epoch [3/25], training loss: 0.79 , valid correct percent : 85.11\n",
      "Epoch [4/25], training loss: 0.42 , valid correct percent : 90.88\n",
      "Epoch [5/25], training loss: 0.30 , valid correct percent : 92.78\n",
      "Epoch [6/25], training loss: 0.23 , valid correct percent : 94.06\n",
      "Epoch [7/25], training loss: 0.19 , valid correct percent : 94.23\n",
      "Epoch [8/25], training loss: 0.17 , valid correct percent : 94.91\n",
      "Epoch [9/25], training loss: 0.16 , valid correct percent : 94.89\n",
      "Epoch [10/25], training loss: 0.16 , valid correct percent : 94.89\n",
      "Epoch [11/25], training loss: 0.16 , valid correct percent : 94.92\n",
      "Epoch [12/25], training loss: 0.16 , valid correct percent : 94.92\n",
      "Epoch [13/25], training loss: 0.15 , valid correct percent : 95.66\n",
      "Epoch [14/25], training loss: 0.15 , valid correct percent : 94.90\n",
      "Epoch [15/25], training loss: 0.15 , valid correct percent : 94.92\n",
      "Epoch [16/25], training loss: 0.15 , valid correct percent : 94.93\n",
      "Epoch [17/25], training loss: 0.15 , valid correct percent : 94.94\n",
      "Epoch [18/25], training loss: 0.15 , valid correct percent : 94.94\n",
      "Epoch [19/25], training loss: 0.15 , valid correct percent : 94.93\n",
      "Epoch [20/25], training loss: 0.15 , valid correct percent : 94.93\n",
      "Epoch [21/25], training loss: 0.15 , valid correct percent : 94.94\n",
      "Epoch [22/25], training loss: 0.15 , valid correct percent : 94.94\n",
      "Epoch [23/25], training loss: 0.15 , valid correct percent : 94.94\n",
      "Epoch [24/25], training loss: 0.15 , valid correct percent : 94.94\n",
      "Epoch [25/25], training loss: 0.15 , valid correct percent : 94.94\n",
      "Finished Training\n"
     ]
    }
   ],
   "source": [
    "num_epochs = 25\n",
    "best_acc = 0\n",
    "\n",
    "#currently SIGMOID\n",
    "PATH = './lenet5_sigmoid_best.pth'\n",
    "torch.save(model.state_dict(), PATH)\n",
    "for epoch in range(num_epochs):\n",
    "\n",
    "    for phase in ['train' , 'valid']:\n",
    "        if phase == 'train':\n",
    "\n",
    "            model.train()\n",
    "            running_loss = 0.0\n",
    "            \n",
    "            for inputs, labels in train_dataloader:\n",
    "                inputs, labels = inputs.to(device), labels.to(device)\n",
    "                \n",
    "                optimizer.zero_grad()\n",
    "                with torch.set_grad_enabled(phase == 'train'):\n",
    "                    outputs = model(inputs)\n",
    "                    loss = criterion(outputs, labels)\n",
    "                    loss.backward()\n",
    "                    optimizer.step()\n",
    "                \n",
    "                running_loss += loss.item()\n",
    "\n",
    "            scheduler.step()\n",
    "            \n",
    "            \n",
    "        elif phase == 'valid':\n",
    "            model.eval()\n",
    "            valid_loss = 0.0\n",
    "            correct = 0\n",
    "            total = 0 \n",
    "            for inputs, labels in valid_dataloader:\n",
    "                inputs , labels = inputs.to(device) , labels.to(device)\n",
    "                outputs = model(inputs)\n",
    "                loss = criterion(outputs , labels)\n",
    "                valid_loss+= loss.item()\n",
    "                _, predicted = torch.max(outputs.data, 1) #Gets the predicted class by finding the index of the maximum value in the output tensor along dimension 1\n",
    "                \n",
    "                for i in predicted:\n",
    "                    if predicted[i] == labels[i]:\n",
    "                        correct+=1\n",
    "\n",
    "                total += labels.size(0)    \n",
    "            percent_acc = 100*correct/total\n",
    "            if percent_acc > best_acc:\n",
    "                best_acc = percent_acc\n",
    "                torch.save(model.state_dict , PATH)\n",
    "\n",
    "    print(f'Epoch [{epoch + 1}/{num_epochs}], training loss: {running_loss / len(train_dataloader):.2f} , valid correct percent : {percent_acc:.2f}')\n",
    "\n",
    "\n",
    "\n",
    "\n",
    "print('Finished Training')\n",
    "\n",
    "\n",
    "\n",
    "\n"
   ]
  },
  {
   "cell_type": "code",
   "execution_count": 34,
   "metadata": {},
   "outputs": [],
   "source": [
    "# PATH = './lenet5_sigmoid.pth'\n",
    "# torch.save(model.state_dict(), PATH)\n"
   ]
  },
  {
   "cell_type": "code",
   "execution_count": 35,
   "metadata": {},
   "outputs": [],
   "source": [
    "# PATH = './lenet5_relu.pth'\n",
    "# torch.save(model.state_dict() , PATH )"
   ]
  },
  {
   "cell_type": "code",
   "execution_count": 36,
   "metadata": {},
   "outputs": [],
   "source": [
    "# Sigmoid activation function\n",
    "# model = LeNet()\n",
    "# model.load_state_dict(torch.load(\"./lenet5_sigmoid.pth\" , weights_only= True))\n"
   ]
  },
  {
   "cell_type": "code",
   "execution_count": 37,
   "metadata": {},
   "outputs": [],
   "source": [
    "# Relu activation function\n",
    "# model = LeNet()\n",
    "# model.load_state_dict(torch.load(\"./lenet5_relu.pth\" ,weights_only= True))\n",
    "\n"
   ]
  },
  {
   "cell_type": "code",
   "execution_count": 38,
   "metadata": {},
   "outputs": [
    {
     "name": "stdout",
     "output_type": "stream",
     "text": [
      "Accuracy of the model on the 10000 test images: 95.89%\n"
     ]
    }
   ],
   "source": [
    "device = torch.device(\"cuda\" if torch.cuda.is_available() else \"cpu\")\n",
    "model.to(device)\n",
    "model.eval() #use evaluation mode in order to stop using drop out\n",
    "correct = 0\n",
    "total = 0\n",
    "with torch.no_grad(): #disable gradient calculating to saving memory\n",
    "    for inputs, labels in test_dataloader:\n",
    "        inputs, labels = inputs.to(device), labels.to(device) #send to device to use cpu or gpu \n",
    "        outputs = model(inputs)\n",
    "        _, predicted = torch.max(outputs.data, 1) #Gets the predicted class by finding the index of the maximum value in the output tensor along dimension 1\n",
    "        total += labels.size(0)\n",
    "        for i in predicted:\n",
    "            if predicted[i] == labels[i]:\n",
    "                correct+=1\n",
    "        \n",
    "print(f'Accuracy of the model on the 10000 test images: {100 * correct / total}%')"
   ]
  },
  {
   "cell_type": "code",
   "execution_count": null,
   "metadata": {},
   "outputs": [],
   "source": []
  },
  {
   "cell_type": "code",
   "execution_count": null,
   "metadata": {},
   "outputs": [],
   "source": []
  },
  {
   "cell_type": "code",
   "execution_count": null,
   "metadata": {},
   "outputs": [],
   "source": []
  }
 ],
 "metadata": {
  "kernelspec": {
   "display_name": "hieupcvp",
   "language": "python",
   "name": "python3"
  },
  "language_info": {
   "codemirror_mode": {
    "name": "ipython",
    "version": 3
   },
   "file_extension": ".py",
   "mimetype": "text/x-python",
   "name": "python",
   "nbconvert_exporter": "python",
   "pygments_lexer": "ipython3",
   "version": "3.12.7"
  }
 },
 "nbformat": 4,
 "nbformat_minor": 2
}
